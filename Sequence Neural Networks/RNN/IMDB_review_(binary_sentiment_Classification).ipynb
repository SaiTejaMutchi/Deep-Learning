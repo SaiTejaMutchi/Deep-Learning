{
  "nbformat": 4,
  "nbformat_minor": 0,
  "metadata": {
    "colab": {
      "name": "IMDB_review_(binary sentiment Classification).ipynb",
      "provenance": []
    },
    "kernelspec": {
      "name": "python3",
      "display_name": "Python 3"
    },
    "language_info": {
      "name": "python"
    }
  },
  "cells": [
    {
      "cell_type": "markdown",
      "metadata": {
        "id": "qIn3xoCQnnpe"
      },
      "source": [
        "# Step1 : importing dependencies required"
      ]
    },
    {
      "cell_type": "code",
      "metadata": {
        "id": "E-UHJFwhnVme"
      },
      "source": [
        "import tensorflow as tf"
      ],
      "execution_count": 44,
      "outputs": []
    },
    {
      "cell_type": "code",
      "metadata": {
        "colab": {
          "base_uri": "https://localhost:8080/",
          "height": 35
        },
        "id": "Z-nMZMTbnhGf",
        "outputId": "2e047bea-6ffe-4f60-96d9-bf15a0cc6ee0"
      },
      "source": [
        "tf.__version__"
      ],
      "execution_count": 45,
      "outputs": [
        {
          "output_type": "execute_result",
          "data": {
            "application/vnd.google.colaboratory.intrinsic+json": {
              "type": "string"
            },
            "text/plain": [
              "'2.5.0'"
            ]
          },
          "metadata": {
            "tags": []
          },
          "execution_count": 45
        }
      ]
    },
    {
      "cell_type": "code",
      "metadata": {
        "id": "QojZ6OJLpXMx"
      },
      "source": [
        "from tensorflow.keras.datasets import imdb"
      ],
      "execution_count": 46,
      "outputs": []
    },
    {
      "cell_type": "code",
      "metadata": {
        "id": "ykYikn_uG6SI"
      },
      "source": [
        "import pandas as pd"
      ],
      "execution_count": 47,
      "outputs": []
    },
    {
      "cell_type": "markdown",
      "metadata": {
        "id": "oNZ_YJAqpNov"
      },
      "source": [
        "# Data Preprocessing"
      ]
    },
    {
      "cell_type": "markdown",
      "metadata": {
        "id": "xQi8XH3q1BR4"
      },
      "source": [
        "### loading dataset"
      ]
    },
    {
      "cell_type": "code",
      "metadata": {
        "colab": {
          "base_uri": "https://localhost:8080/"
        },
        "id": "wzoH6Ox21Ap0",
        "outputId": "fe418deb-4c44-42cd-90c7-9148a8638278"
      },
      "source": [
        "#taking only 20000 reviews for the model\n",
        "(X_train, y_train), (X_test, y_test) = imdb.load_data(num_words=20000)"
      ],
      "execution_count": 48,
      "outputs": [
        {
          "output_type": "stream",
          "text": [
            "<string>:6: VisibleDeprecationWarning: Creating an ndarray from ragged nested sequences (which is a list-or-tuple of lists-or-tuples-or ndarrays with different lengths or shapes) is deprecated. If you meant to do this, you must specify 'dtype=object' when creating the ndarray\n",
            "/usr/local/lib/python3.7/dist-packages/tensorflow/python/keras/datasets/imdb.py:155: VisibleDeprecationWarning: Creating an ndarray from ragged nested sequences (which is a list-or-tuple of lists-or-tuples-or ndarrays with different lengths or shapes) is deprecated. If you meant to do this, you must specify 'dtype=object' when creating the ndarray\n",
            "  x_train, y_train = np.array(xs[:idx]), np.array(labels[:idx])\n",
            "/usr/local/lib/python3.7/dist-packages/tensorflow/python/keras/datasets/imdb.py:156: VisibleDeprecationWarning: Creating an ndarray from ragged nested sequences (which is a list-or-tuple of lists-or-tuples-or ndarrays with different lengths or shapes) is deprecated. If you meant to do this, you must specify 'dtype=object' when creating the ndarray\n",
            "  x_test, y_test = np.array(xs[idx:]), np.array(labels[idx:])\n"
          ],
          "name": "stderr"
        }
      ]
    },
    {
      "cell_type": "markdown",
      "metadata": {
        "id": "q8t3e1ID1ovA"
      },
      "source": [
        "## padding all sequences to be the same length"
      ]
    },
    {
      "cell_type": "code",
      "metadata": {
        "id": "5VnqJxnI1mpS"
      },
      "source": [
        "#making all the reviews to equal length by adding padding so that maxlen is 100\n",
        "X_train = tf.keras.preprocessing.sequence.pad_sequences(X_train, maxlen=100)"
      ],
      "execution_count": 49,
      "outputs": []
    },
    {
      "cell_type": "code",
      "metadata": {
        "id": "kZPNXT3Y2LKA"
      },
      "source": [
        "X_test = tf.keras.preprocessing.sequence.pad_sequences(X_test, maxlen=100)"
      ],
      "execution_count": 50,
      "outputs": []
    },
    {
      "cell_type": "markdown",
      "metadata": {
        "id": "4slrE2I12dsc"
      },
      "source": [
        "## Building RNN"
      ]
    },
    {
      "cell_type": "markdown",
      "metadata": {
        "id": "6PIVDkeq2-ux"
      },
      "source": [
        "### Definig the model"
      ]
    },
    {
      "cell_type": "code",
      "metadata": {
        "id": "0MN9q5MX25e4"
      },
      "source": [
        "model =tf.keras.Sequential()"
      ],
      "execution_count": 51,
      "outputs": []
    },
    {
      "cell_type": "markdown",
      "metadata": {
        "id": "hOiaU6TJ3OWV"
      },
      "source": [
        "### Adding the embedding layer"
      ]
    },
    {
      "cell_type": "code",
      "metadata": {
        "id": "0kXZhFl83Nty"
      },
      "source": [
        " model.add(tf.keras.layers.Embedding(input_dim=20000, output_dim=128, input_shape=(X_train.shape[1],)))"
      ],
      "execution_count": 52,
      "outputs": []
    },
    {
      "cell_type": "markdown",
      "metadata": {
        "id": "ARnSysFi9z1k"
      },
      "source": [
        "## Adding LSTM layer\n",
        "- units:128\n",
        "- activation: tanh"
      ]
    },
    {
      "cell_type": "code",
      "metadata": {
        "id": "7qs_QBzI9zbq"
      },
      "source": [
        "model.add(tf.keras.layers.LSTM(units=128, activation='tanh'))"
      ],
      "execution_count": 53,
      "outputs": []
    },
    {
      "cell_type": "markdown",
      "metadata": {
        "id": "9FbjmDty-PhJ"
      },
      "source": [
        "## Adding Output layer\n",
        "- units=1\n",
        "- activation='sigmoid'"
      ]
    },
    {
      "cell_type": "code",
      "metadata": {
        "id": "VoUulsHq-O8L"
      },
      "source": [
        "model.add(tf.keras.layers.Dense(units=1, activation='sigmoid'))"
      ],
      "execution_count": 54,
      "outputs": []
    },
    {
      "cell_type": "markdown",
      "metadata": {
        "id": "9mnRctsm-vJB"
      },
      "source": [
        "# Compiling model"
      ]
    },
    {
      "cell_type": "code",
      "metadata": {
        "id": "JJYJ8IC4-u3R"
      },
      "source": [
        "model.compile(optimizer='rmsprop', loss='binary_crossentropy', metrics=['accuracy'] )\n",
        "#rmsprop most suited for RNN, ulike CNN and ANN have adam\n",
        "#for binary classification loss is binary_crossentropy, for multiclass : sparse_categorical_crossentropy"
      ],
      "execution_count": 55,
      "outputs": []
    },
    {
      "cell_type": "code",
      "metadata": {
        "colab": {
          "base_uri": "https://localhost:8080/"
        },
        "id": "KEW0o2Eq_atN",
        "outputId": "306cb9f4-a96d-4d5b-b764-0b6897e33798"
      },
      "source": [
        "model.summary()"
      ],
      "execution_count": 56,
      "outputs": [
        {
          "output_type": "stream",
          "text": [
            "Model: \"sequential_2\"\n",
            "_________________________________________________________________\n",
            "Layer (type)                 Output Shape              Param #   \n",
            "=================================================================\n",
            "embedding_4 (Embedding)      (None, 100, 128)          2560000   \n",
            "_________________________________________________________________\n",
            "lstm_2 (LSTM)                (None, 128)               131584    \n",
            "_________________________________________________________________\n",
            "dense_2 (Dense)              (None, 1)                 129       \n",
            "=================================================================\n",
            "Total params: 2,691,713\n",
            "Trainable params: 2,691,713\n",
            "Non-trainable params: 0\n",
            "_________________________________________________________________\n"
          ],
          "name": "stdout"
        }
      ]
    },
    {
      "cell_type": "markdown",
      "metadata": {
        "id": "PLqyAULCAJ1c"
      },
      "source": [
        "# Training the model"
      ]
    },
    {
      "cell_type": "code",
      "metadata": {
        "colab": {
          "base_uri": "https://localhost:8080/"
        },
        "id": "59Z_A3AtAkBY",
        "outputId": "7392407c-03dc-45e8-eb83-76a71b7b1ee1"
      },
      "source": [
        "model.fit(X_train, y_train, epochs=3, batch_size=128)\n",
        "#feeding in batches"
      ],
      "execution_count": 57,
      "outputs": [
        {
          "output_type": "stream",
          "text": [
            "Epoch 1/3\n",
            "196/196 [==============================] - 71s 353ms/step - loss: 0.4624 - accuracy: 0.7822\n",
            "Epoch 2/3\n",
            "196/196 [==============================] - 69s 351ms/step - loss: 0.2899 - accuracy: 0.8841\n",
            "Epoch 3/3\n",
            "196/196 [==============================] - 69s 351ms/step - loss: 0.2309 - accuracy: 0.9112\n"
          ],
          "name": "stdout"
        },
        {
          "output_type": "execute_result",
          "data": {
            "text/plain": [
              "<tensorflow.python.keras.callbacks.History at 0x7f19ac071310>"
            ]
          },
          "metadata": {
            "tags": []
          },
          "execution_count": 57
        }
      ]
    },
    {
      "cell_type": "markdown",
      "metadata": {
        "id": "xya9yUznCrIw"
      },
      "source": [
        "# Evaluating the model"
      ]
    },
    {
      "cell_type": "code",
      "metadata": {
        "colab": {
          "base_uri": "https://localhost:8080/"
        },
        "id": "udFcFd3HCu64",
        "outputId": "24ecaa30-485f-4d4a-af60-c73b8065f66a"
      },
      "source": [
        "test_loss, test_accuracy = model.evaluate(X_test, y_test)"
      ],
      "execution_count": 58,
      "outputs": [
        {
          "output_type": "stream",
          "text": [
            "782/782 [==============================] - 25s 31ms/step - loss: 0.3349 - accuracy: 0.8555\n"
          ],
          "name": "stdout"
        }
      ]
    }
  ]
}